{
 "cells": [
  {
   "cell_type": "code",
   "execution_count": 2,
   "metadata": {},
   "outputs": [],
   "source": [
    "import pandas as pd"
   ]
  },
  {
   "cell_type": "code",
   "execution_count": 3,
   "metadata": {},
   "outputs": [],
   "source": [
    "pd.set_option('display.max_colwidth', None)\n"
   ]
  },
  {
   "cell_type": "code",
   "execution_count": 4,
   "metadata": {},
   "outputs": [
    {
     "data": {
      "text/plain": [
       "Index(['Unnamed: 0.1', 'Unnamed: 0', 'tweet', 'entity list', 'target',\n",
       "       'severity', 'reason', 'muhattap', 'mobil', 'sabit', 'ek paket',\n",
       "       'kampanya', 'diğer\\nürün / uygulama / cihaz', 'reklam', 'çağrı merkezi',\n",
       "       'bayi', 'aksiyon'],\n",
       "      dtype='object')"
      ]
     },
     "execution_count": 4,
     "metadata": {},
     "output_type": "execute_result"
    }
   ],
   "source": [
    "df = pd.read_csv(\"data/df_merged.csv\", delimiter=\",\", index_col= False)\n",
    "df.columns"
   ]
  },
  {
   "cell_type": "code",
   "execution_count": 5,
   "metadata": {},
   "outputs": [],
   "source": [
    "df = df.drop(columns=['Unnamed: 0.1', 'Unnamed: 0','target',\n",
    "       'severity', 'reason', 'muhattap', 'mobil', 'sabit', 'ek paket',\n",
    "       'kampanya', 'diğer\\nürün / uygulama / cihaz', 'reklam', 'çağrı merkezi',\n",
    "       'bayi', 'aksiyon'], axis=1)"
   ]
  },
  {
   "cell_type": "code",
   "execution_count": 7,
   "metadata": {},
   "outputs": [],
   "source": [
    "df = df.rename(columns={\"tweet\": \"tweet\", \"entity list\": \"entities\"})"
   ]
  },
  {
   "cell_type": "code",
   "execution_count": 8,
   "metadata": {},
   "outputs": [],
   "source": [
    "entity_list = df.entities.to_list()\n",
    "tweet_list = df.tweet.to_list()"
   ]
  },
  {
   "cell_type": "code",
   "execution_count": 9,
   "metadata": {},
   "outputs": [],
   "source": [
    "def tagNormalize(tags):\n",
    "    return [i.lstrip().rstrip().lower()for i in tags]\n"
   ]
  },
  {
   "cell_type": "code",
   "execution_count": 79,
   "metadata": {},
   "outputs": [],
   "source": [
    "def findSubstringInText(text, words, tags):\n",
    "    text = text.lower()\n",
    "    temp = []\n",
    "    startpos = 0\n",
    "    for idx, t in enumerate(words):\n",
    "        spos =text.find(t, startpos) \n",
    "        if spos >= 0:\n",
    "            epos = spos+len(t)\n",
    "            #startpos = epos\n",
    "            temp.append([spos, epos, tags[idx]])\n",
    "    return temp"
   ]
  },
  {
   "cell_type": "code",
   "execution_count": 11,
   "metadata": {},
   "outputs": [
    {
     "name": "stdout",
     "output_type": "stream",
     "text": [
      "[[41, 49, 'turkcell']]\n",
      "[[40, 48, 'turkcell']]\n",
      "[[16, 27, 'superonline']]\n",
      "[[0, 8, 'turkcell']]\n",
      "[[0, 8, 'turkcell'], [9, 12, 'kaş']]\n"
     ]
    }
   ],
   "source": [
    "for idx, entitiy in enumerate(entity_list[0:5]):\n",
    "    \n",
    "    lowertext = tweet_list[idx].lower()\n",
    "    ent= tagNormalize(entitiy.split(\";\"))\n",
    "    rs = findSubstringInText(tweet_list[idx], ent)\n",
    "    print(rs)\n",
    "    "
   ]
  },
  {
   "cell_type": "code",
   "execution_count": 12,
   "metadata": {},
   "outputs": [],
   "source": [
    "full_ent = []\n",
    "for idx, entitiy in enumerate(entity_list):\n",
    "    normal_ent= tagNormalize(entitiy.split(\";\"))\n",
    "    for e in normal_ent:\n",
    "        full_ent.append(e.lstrip().rstrip().lower())"
   ]
  },
  {
   "cell_type": "code",
   "execution_count": 86,
   "metadata": {},
   "outputs": [],
   "source": [
    "with open (\"entities.csv\", \"w+\") as file:\n",
    "    for e in set(full_ent):\n",
    "        file.writelines(e+\"\\n\")"
   ]
  },
  {
   "cell_type": "code",
   "execution_count": 24,
   "metadata": {},
   "outputs": [
    {
     "data": {
      "text/html": [
       "<div>\n",
       "<style scoped>\n",
       "    .dataframe tbody tr th:only-of-type {\n",
       "        vertical-align: middle;\n",
       "    }\n",
       "\n",
       "    .dataframe tbody tr th {\n",
       "        vertical-align: top;\n",
       "    }\n",
       "\n",
       "    .dataframe thead th {\n",
       "        text-align: right;\n",
       "    }\n",
       "</style>\n",
       "<table border=\"1\" class=\"dataframe\">\n",
       "  <thead>\n",
       "    <tr style=\"text-align: right;\">\n",
       "      <th></th>\n",
       "      <th>word</th>\n",
       "      <th>ent</th>\n",
       "    </tr>\n",
       "  </thead>\n",
       "  <tbody>\n",
       "    <tr>\n",
       "      <th>0</th>\n",
       "      <td>mobil hat</td>\n",
       "      <td>PRODUCT</td>\n",
       "    </tr>\n",
       "    <tr>\n",
       "      <th>1</th>\n",
       "      <td>turkcellhizmet</td>\n",
       "      <td>APP</td>\n",
       "    </tr>\n",
       "    <tr>\n",
       "      <th>2</th>\n",
       "      <td>müşteri hizmetleri</td>\n",
       "      <td>HIZMET</td>\n",
       "    </tr>\n",
       "    <tr>\n",
       "      <th>3</th>\n",
       "      <td>faturasız hat</td>\n",
       "      <td>PRODUCT</td>\n",
       "    </tr>\n",
       "    <tr>\n",
       "      <th>4</th>\n",
       "      <td>fibernet</td>\n",
       "      <td>PRODUCT</td>\n",
       "    </tr>\n",
       "    <tr>\n",
       "      <th>...</th>\n",
       "      <td>...</td>\n",
       "      <td>...</td>\n",
       "    </tr>\n",
       "    <tr>\n",
       "      <th>534</th>\n",
       "      <td>apple store</td>\n",
       "      <td>APP</td>\n",
       "    </tr>\n",
       "    <tr>\n",
       "      <th>535</th>\n",
       "      <td>twitter paketi</td>\n",
       "      <td>PACKAGE</td>\n",
       "    </tr>\n",
       "    <tr>\n",
       "      <th>536</th>\n",
       "      <td>finansman kredisi</td>\n",
       "      <td>HIZMET</td>\n",
       "    </tr>\n",
       "    <tr>\n",
       "      <th>537</th>\n",
       "      <td>teledünya</td>\n",
       "      <td>PACKAGE</td>\n",
       "    </tr>\n",
       "    <tr>\n",
       "      <th>538</th>\n",
       "      <td>paypal</td>\n",
       "      <td>APP</td>\n",
       "    </tr>\n",
       "  </tbody>\n",
       "</table>\n",
       "<p>539 rows × 2 columns</p>\n",
       "</div>"
      ],
      "text/plain": [
       "                   word      ent\n",
       "0             mobil hat  PRODUCT\n",
       "1        turkcellhizmet      APP\n",
       "2    müşteri hizmetleri   HIZMET\n",
       "3         faturasız hat  PRODUCT\n",
       "4              fibernet  PRODUCT\n",
       "..                  ...      ...\n",
       "534         apple store      APP\n",
       "535      twitter paketi  PACKAGE\n",
       "536   finansman kredisi   HIZMET\n",
       "537           teledünya  PACKAGE\n",
       "538              paypal      APP\n",
       "\n",
       "[539 rows x 2 columns]"
      ]
     },
     "execution_count": 24,
     "metadata": {},
     "output_type": "execute_result"
    }
   ],
   "source": [
    "df = pd.read_csv(\"entities_filtered.csv\", index_col= False)\n",
    "df"
   ]
  },
  {
   "cell_type": "code",
   "execution_count": 25,
   "metadata": {},
   "outputs": [
    {
     "data": {
      "text/html": [
       "<div>\n",
       "<style scoped>\n",
       "    .dataframe tbody tr th:only-of-type {\n",
       "        vertical-align: middle;\n",
       "    }\n",
       "\n",
       "    .dataframe tbody tr th {\n",
       "        vertical-align: top;\n",
       "    }\n",
       "\n",
       "    .dataframe thead th {\n",
       "        text-align: right;\n",
       "    }\n",
       "</style>\n",
       "<table border=\"1\" class=\"dataframe\">\n",
       "  <thead>\n",
       "    <tr style=\"text-align: right;\">\n",
       "      <th></th>\n",
       "      <th>word</th>\n",
       "      <th>ent</th>\n",
       "    </tr>\n",
       "  </thead>\n",
       "  <tbody>\n",
       "    <tr>\n",
       "      <th>0</th>\n",
       "      <td>mobil hat</td>\n",
       "      <td>PRODUCT</td>\n",
       "    </tr>\n",
       "    <tr>\n",
       "      <th>1</th>\n",
       "      <td>turkcellhizmet</td>\n",
       "      <td>APP</td>\n",
       "    </tr>\n",
       "    <tr>\n",
       "      <th>2</th>\n",
       "      <td>müşteri hizmetleri</td>\n",
       "      <td>HIZMET</td>\n",
       "    </tr>\n",
       "    <tr>\n",
       "      <th>3</th>\n",
       "      <td>faturasız hat</td>\n",
       "      <td>PRODUCT</td>\n",
       "    </tr>\n",
       "    <tr>\n",
       "      <th>4</th>\n",
       "      <td>fibernet</td>\n",
       "      <td>PRODUCT</td>\n",
       "    </tr>\n",
       "    <tr>\n",
       "      <th>...</th>\n",
       "      <td>...</td>\n",
       "      <td>...</td>\n",
       "    </tr>\n",
       "    <tr>\n",
       "      <th>534</th>\n",
       "      <td>apple store</td>\n",
       "      <td>APP</td>\n",
       "    </tr>\n",
       "    <tr>\n",
       "      <th>535</th>\n",
       "      <td>twitter paketi</td>\n",
       "      <td>PACKAGE</td>\n",
       "    </tr>\n",
       "    <tr>\n",
       "      <th>536</th>\n",
       "      <td>finansman kredisi</td>\n",
       "      <td>HIZMET</td>\n",
       "    </tr>\n",
       "    <tr>\n",
       "      <th>537</th>\n",
       "      <td>teledünya</td>\n",
       "      <td>PACKAGE</td>\n",
       "    </tr>\n",
       "    <tr>\n",
       "      <th>538</th>\n",
       "      <td>paypal</td>\n",
       "      <td>APP</td>\n",
       "    </tr>\n",
       "  </tbody>\n",
       "</table>\n",
       "<p>432 rows × 2 columns</p>\n",
       "</div>"
      ],
      "text/plain": [
       "                   word      ent\n",
       "0             mobil hat  PRODUCT\n",
       "1        turkcellhizmet      APP\n",
       "2    müşteri hizmetleri   HIZMET\n",
       "3         faturasız hat  PRODUCT\n",
       "4              fibernet  PRODUCT\n",
       "..                  ...      ...\n",
       "534         apple store      APP\n",
       "535      twitter paketi  PACKAGE\n",
       "536   finansman kredisi   HIZMET\n",
       "537           teledünya  PACKAGE\n",
       "538              paypal      APP\n",
       "\n",
       "[432 rows x 2 columns]"
      ]
     },
     "execution_count": 25,
     "metadata": {},
     "output_type": "execute_result"
    }
   ],
   "source": [
    "df = df.drop_duplicates(subset=['word'])\n",
    "df"
   ]
  },
  {
   "cell_type": "code",
   "execution_count": 29,
   "metadata": {},
   "outputs": [],
   "source": [
    "df.to_csv(\"entities_filtered_last.csv\", index= False)"
   ]
  },
  {
   "cell_type": "code",
   "execution_count": 116,
   "metadata": {},
   "outputs": [
    {
     "data": {
      "text/html": [
       "<div>\n",
       "<style scoped>\n",
       "    .dataframe tbody tr th:only-of-type {\n",
       "        vertical-align: middle;\n",
       "    }\n",
       "\n",
       "    .dataframe tbody tr th {\n",
       "        vertical-align: top;\n",
       "    }\n",
       "\n",
       "    .dataframe thead th {\n",
       "        text-align: right;\n",
       "    }\n",
       "</style>\n",
       "<table border=\"1\" class=\"dataframe\">\n",
       "  <thead>\n",
       "    <tr style=\"text-align: right;\">\n",
       "      <th></th>\n",
       "      <th>word</th>\n",
       "      <th>ent</th>\n",
       "    </tr>\n",
       "  </thead>\n",
       "  <tbody>\n",
       "    <tr>\n",
       "      <th>0</th>\n",
       "      <td>3g</td>\n",
       "      <td>HIZMET</td>\n",
       "    </tr>\n",
       "    <tr>\n",
       "      <th>1</th>\n",
       "      <td>4.5 g</td>\n",
       "      <td>HIZMET</td>\n",
       "    </tr>\n",
       "    <tr>\n",
       "      <th>2</th>\n",
       "      <td>4.5g</td>\n",
       "      <td>HIZMET</td>\n",
       "    </tr>\n",
       "    <tr>\n",
       "      <th>3</th>\n",
       "      <td>4g</td>\n",
       "      <td>HIZMET</td>\n",
       "    </tr>\n",
       "    <tr>\n",
       "      <th>4</th>\n",
       "      <td>5g</td>\n",
       "      <td>HIZMET</td>\n",
       "    </tr>\n",
       "    <tr>\n",
       "      <th>...</th>\n",
       "      <td>...</td>\n",
       "      <td>...</td>\n",
       "    </tr>\n",
       "    <tr>\n",
       "      <th>417</th>\n",
       "      <td>yurt dışı</td>\n",
       "      <td>HIZMET</td>\n",
       "    </tr>\n",
       "    <tr>\n",
       "      <th>418</th>\n",
       "      <td>yurt dışı kullanım</td>\n",
       "      <td>HIZMET</td>\n",
       "    </tr>\n",
       "    <tr>\n",
       "      <th>419</th>\n",
       "      <td>yurt dışı paketi</td>\n",
       "      <td>PACKAGE</td>\n",
       "    </tr>\n",
       "    <tr>\n",
       "      <th>420</th>\n",
       "      <td>yurt dışında kullanım</td>\n",
       "      <td>PACKAGE</td>\n",
       "    </tr>\n",
       "    <tr>\n",
       "      <th>421</th>\n",
       "      <td>yurtdışı tarife</td>\n",
       "      <td>HIZMET</td>\n",
       "    </tr>\n",
       "  </tbody>\n",
       "</table>\n",
       "<p>422 rows × 2 columns</p>\n",
       "</div>"
      ],
      "text/plain": [
       "                      word      ent\n",
       "0                       3g   HIZMET\n",
       "1                    4.5 g   HIZMET\n",
       "2                     4.5g   HIZMET\n",
       "3                       4g   HIZMET\n",
       "4                       5g   HIZMET\n",
       "..                     ...      ...\n",
       "417              yurt dışı   HIZMET\n",
       "418     yurt dışı kullanım   HIZMET\n",
       "419       yurt dışı paketi  PACKAGE\n",
       "420  yurt dışında kullanım  PACKAGE\n",
       "421        yurtdışı tarife   HIZMET\n",
       "\n",
       "[422 rows x 2 columns]"
      ]
     },
     "execution_count": 116,
     "metadata": {},
     "output_type": "execute_result"
    }
   ],
   "source": [
    "df = pd.read_csv(\"entities_filtered_last.csv\", index_col= False)\n",
    "df"
   ]
  },
  {
   "cell_type": "code",
   "execution_count": 117,
   "metadata": {},
   "outputs": [],
   "source": [
    "new_word_list = df.word.to_list()\n",
    "new_tag_list= df.ent.to_list()\n",
    "\n",
    "tag_full = []\n",
    "tag_operator = df[df['ent']==\"OPERATOR\"].word.to_list()\n",
    "tag_app = df[df['ent']==\"APP\"].word.to_list()\n",
    "tag_hizmet = df[df['ent']==\"HIZMET\"].word.to_list()\n",
    "tag_product = df[df['ent']==\"PRODUCT\"].word.to_list()\n",
    "tag_package = df[df['ent']==\"PACKAGE\"].word.to_list()\n"
   ]
  },
  {
   "cell_type": "code",
   "execution_count": 118,
   "metadata": {},
   "outputs": [
    {
     "data": {
      "text/plain": [
       "array(['HIZMET', 'APP', 'OPERATOR', 'PRODUCT', 'PACKAGE'], dtype=object)"
      ]
     },
     "execution_count": 118,
     "metadata": {},
     "output_type": "execute_result"
    }
   ],
   "source": [
    "df.ent.unique()"
   ]
  },
  {
   "cell_type": "code",
   "execution_count": 119,
   "metadata": {},
   "outputs": [],
   "source": [
    "tag_full.append(tag_app)\n",
    "tag_full.append(tag_hizmet)\n",
    "tag_full.append(tag_operator)\n",
    "tag_full.append(tag_package)\n",
    "tag_full.append(tag_operator)"
   ]
  },
  {
   "cell_type": "code",
   "execution_count": 120,
   "metadata": {},
   "outputs": [],
   "source": [
    "tag_str = ['APP', 'HIZMET', 'OPERATOR', 'PACKAGE', 'PRODUCT']"
   ]
  },
  {
   "cell_type": "code",
   "execution_count": 133,
   "metadata": {},
   "outputs": [],
   "source": [
    "def findSubstringInText(text):\n",
    "    text = text.lower()\n",
    "    temp = []\n",
    "    startpos = 0\n",
    "    for index, tf in enumerate(tag_full):\n",
    "        for idx, t in enumerate(tf):\n",
    "            spos =text.find(t, startpos) \n",
    "            if spos >= 0:\n",
    "                epos = spos+len(t)\n",
    "                startpos = epos\n",
    "                temp.append([spos, epos, tag_str[index]])\n",
    "        \n",
    "    return temp"
   ]
  },
  {
   "cell_type": "code",
   "execution_count": 152,
   "metadata": {},
   "outputs": [],
   "source": [
    "import json\n",
    "ner_data = []\n",
    "for idx, tweet in enumerate(tweet_list):\n",
    "    labels = findSubstringInText(tweet.lower())\n",
    "    ner_data.append({\"id\": idx, \"text\": tweet, \"label\": labels})\n",
    "\n",
    "with open (\"ner_data.json\", \"w+\") as nerfile:\n",
    "    for n in ner_data:\n",
    "        nerfile.writelines(json.dumps(n, ensure_ascii= False)+\"\\n\")"
   ]
  },
  {
   "cell_type": "code",
   "execution_count": null,
   "metadata": {},
   "outputs": [],
   "source": []
  },
  {
   "cell_type": "code",
   "execution_count": null,
   "metadata": {},
   "outputs": [],
   "source": []
  },
  {
   "cell_type": "code",
   "execution_count": null,
   "metadata": {},
   "outputs": [],
   "source": []
  },
  {
   "cell_type": "code",
   "execution_count": 31,
   "metadata": {},
   "outputs": [
    {
     "name": "stdout",
     "output_type": "stream",
     "text": [
      "Ulan Wifi'ye bağlıyım ben. Ona bağlıyken Turkcell internet paketin bitti diye nasıl mesaj atabilir bana ya? Onu da mı ödeyelim\n",
      "20 dk 1 GB internet 500 mb sadece kaşar turkcell de düşer. Oç çocukları.\n",
      "Ayrıca turkcell superonline reklamı kadar da kötü bir reklam görmemiştim\n",
      "Turkcell çok pahalı ya\n",
      "Turkcell Kaş'ta internetin cekmiyor\n"
     ]
    }
   ],
   "source": [
    "for idx, entitiy in enumerate(tweet_list[0:5]):\n",
    "    \n",
    "    lowertext = tweet_list[idx].lower()\n",
    "    ent= tagNormalize(entitiy.split(\";\"))\n",
    "    rs = findSubstringInText(tweet_list[idx], ent)\n",
    "    \n",
    "    print(entitiy)"
   ]
  }
 ],
 "metadata": {
  "kernelspec": {
   "display_name": "venv_tf",
   "language": "python",
   "name": "python3"
  },
  "language_info": {
   "codemirror_mode": {
    "name": "ipython",
    "version": 3
   },
   "file_extension": ".py",
   "mimetype": "text/x-python",
   "name": "python",
   "nbconvert_exporter": "python",
   "pygments_lexer": "ipython3",
   "version": "3.10.12"
  }
 },
 "nbformat": 4,
 "nbformat_minor": 2
}
