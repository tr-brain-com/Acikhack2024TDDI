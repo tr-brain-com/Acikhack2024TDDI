{
 "cells": [
  {
   "cell_type": "code",
   "execution_count": null,
   "metadata": {},
   "outputs": [],
   "source": [
    "import json\n",
    "from nltk.tokenize import word_tokenize\n",
    "from nltk.corpus import stopwords\n",
    "import nltk\n",
    "import re\n",
    "from functools import reduce"
   ]
  },
  {
   "cell_type": "code",
   "execution_count": null,
   "metadata": {},
   "outputs": [],
   "source": [
    "def similarity_cosine(text1, text2):\n",
    "    X_list = word_tokenize(text1)\n",
    "    Y_list = word_tokenize(text2)\n",
    "\n",
    "    l1 = []\n",
    "    l2 = []\n",
    "    \n",
    "    sw = stopwords.words('turkish')\n",
    "\n",
    "\n",
    "    X_set = {w for w in X_list if not w in sw}\n",
    "    Y_set = {w for w in Y_list if not w in sw}\n",
    "\n",
    "    rvector = X_set.union(Y_set)\n",
    "    for w in rvector:\n",
    "        if w in X_set:\n",
    "            l1.append(1)\n",
    "        else:\n",
    "            l1.append(0)\n",
    "        if w in Y_set:\n",
    "            l2.append(1)\n",
    "        else:\n",
    "            l2.append(0)\n",
    "    c = 0\n",
    "\n",
    "    for i in range(len(rvector)): #kosinüs formülü\n",
    "        c += l1[i] * l2[i]\n",
    "    cosine = 0\n",
    "\n",
    "    if c > 0:\n",
    "        cosine = c / float((sum(l1) * sum(l2)) ** 0.5)\n",
    "\n",
    "    return cosine\n",
    "similarity_cosine(\"bi̇lateral mamografi̇ i̇ncelemesi̇\", \"bi̇lateral mamografi̇ i̇ncelemesi̇\")"
   ]
  },
  {
   "cell_type": "code",
   "execution_count": null,
   "metadata": {},
   "outputs": [],
   "source": [
    "JSON_data = []"
   ]
  },
  {
   "cell_type": "code",
   "execution_count": null,
   "metadata": {},
   "outputs": [],
   "source": [
    "def loadConllFile(filename):\n",
    "    with open (filename, \"r\") as file:\n",
    "        return(file.readlines())"
   ]
  },
  {
   "cell_type": "code",
   "execution_count": null,
   "metadata": {},
   "outputs": [],
   "source": [
    "JSON_data = []\n",
    "data_paths = [\"json/oguzhan.jsonl\", \"json/serdar.jsonl\", \"json/ensar.json\"]\n",
    "for pth in data_paths:\n",
    "    #JSON_data = loadConllFile(\"data/custom_data_train.json\")\n",
    "    JSON_data.extend(loadConllFile(pth))"
   ]
  },
  {
   "cell_type": "code",
   "execution_count": null,
   "metadata": {},
   "outputs": [],
   "source": [
    "f = open(\"json/dataset.json\", \"w\")\n",
    "for idx, d in enumerate(JSON_data) :\n",
    "    f.writelines(json.dumps(json.loads(d), ensure_ascii=False)+\"\\n\")"
   ]
  },
  {
   "cell_type": "code",
   "execution_count": null,
   "metadata": {},
   "outputs": [],
   "source": [
    "NEW_JSON_DATA = []\n",
    "NULL_JSON_DATA = []\n",
    "for i in JSON_data:\n",
    "    row = json.loads(i)\n",
    "    row_labels = list(row[\"label\"])\n",
    "\n",
    "    if len(row_labels) == 0:\n",
    "        NULL_JSON_DATA.append(row)\n",
    "    else:\n",
    "        NEW_JSON_DATA.append(row)"
   ]
  },
  {
   "cell_type": "code",
   "execution_count": null,
   "metadata": {},
   "outputs": [],
   "source": [
    "NEW_JSON_DATA[0][\"text\"]"
   ]
  },
  {
   "cell_type": "code",
   "execution_count": null,
   "metadata": {},
   "outputs": [],
   "source": [
    "def Json2ConLL_v2(arrJsonData):\n",
    "    conn_list = []\n",
    "    tab = '\\t'\n",
    "\n",
    "    def check_entities(arrEnt,start_pos, end_pos):\n",
    "        for ent in arrEnt:\n",
    "            begin, end, e = ent\n",
    "            if begin == start_pos:\n",
    "                if end_pos< end:\n",
    "                    return 1,None\n",
    "                else:\n",
    "                    return 2, e\n",
    "        return 0, \"O\"\n",
    "\n",
    "\n",
    "    for data in arrJsonData:\n",
    "\n",
    "        jsons = data#json.loads(data) bu şimdilk eklendı, duruma gore tekrar duzenlemelı\n",
    "        words = jsons[\"text\"].split(\" \")\n",
    "        entities = jsons[\"label\"]\n",
    "\n",
    "        temp_word_start = 0\n",
    "        temp_word_end = 0\n",
    "        temp_word =[]\n",
    "        \n",
    "        for word in words:\n",
    "\n",
    "            temp_word_end += len(word)\n",
    "            \n",
    "            chwcking,entt =check_entities(entities, temp_word_start, temp_word_end)\n",
    "            if chwcking == 1:\n",
    "                temp_word.append(word)\n",
    "                temp_word_end+=1\n",
    "\n",
    "            elif chwcking == 2:\n",
    "                temp_word.append(word)\n",
    "                value = \" \".join(temp_word)\n",
    "\n",
    "                conn_list.append(f\"{value}{tab}{entt}\") \n",
    "                temp_word_start = temp_word_end+1\n",
    "\n",
    "                temp_word_end += 1\n",
    "                temp_word.clear()\n",
    "            else:\n",
    "                if len(word) >0:\n",
    "                    conn_list.append(f'{word}{tab}O') \n",
    "                    temp_word_start = temp_word_end+1\n",
    "                    temp_word_end += 1\n",
    "                    temp_word.clear()\n",
    "\n",
    "        start_index = 0\n",
    "        end_index = 0\n",
    "        conn_list.append(\"\\n\")\n",
    "    return conn_list"
   ]
  },
  {
   "cell_type": "code",
   "execution_count": null,
   "metadata": {},
   "outputs": [],
   "source": [
    "data = Json2ConLL_v2(NEW_JSON_DATA)\n",
    "data"
   ]
  },
  {
   "cell_type": "code",
   "execution_count": null,
   "metadata": {},
   "outputs": [],
   "source": [
    "f = open(\"conll/dataset_new_case.conll\", \"w\")\n",
    "for idx, d in enumerate(data) :\n",
    "    if not d in \"\\n\":\n",
    "        f.writelines(d+\"\\n\")\n",
    "\n",
    "    if d in \"\\n\":\n",
    "        f.writelines(\".\\n\")\n",
    "        f.writelines(\"\\n\")\n",
    "        continue"
   ]
  }
 ],
 "metadata": {
  "kernelspec": {
   "display_name": "venv_ner",
   "language": "python",
   "name": "python3"
  },
  "language_info": {
   "codemirror_mode": {
    "name": "ipython",
    "version": 3
   },
   "file_extension": ".py",
   "mimetype": "text/x-python",
   "name": "python",
   "nbconvert_exporter": "python",
   "pygments_lexer": "ipython3",
   "version": "3.10.12"
  }
 },
 "nbformat": 4,
 "nbformat_minor": 2
}
